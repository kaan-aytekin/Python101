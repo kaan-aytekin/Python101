{
 "cells": [
  {
   "cell_type": "markdown",
   "metadata": {},
   "source": [
    "# Python Use cases"
   ]
  },
  {
   "cell_type": "markdown",
   "metadata": {},
   "source": [
    "![image](https://techcrunch.com/wp-content/uploads/2019/04/blackhole.jpg?w=1390&crop=1)\n",
    "![image](https://techcrunch.com/wp-content/uploads/2019/04/Screen-Shot-2019-04-11-at-11.11.37-AM.png?resize=680,487)\n",
    "![title](https://imgs.xkcd.com/comics/python.png)"
   ]
  },
  {
   "cell_type": "markdown",
   "metadata": {},
   "source": [
    "### Commenting, Indentation & Operators"
   ]
  },
  {
   "cell_type": "code",
   "execution_count": null,
   "metadata": {
    "collapsed": true
   },
   "outputs": [],
   "source": [
    "# You can make comments in python script using '#' (hash) sign\n",
    "'''\n",
    "Multiline comment\n",
    "asd\n",
    "asd\n",
    "ads\n",
    "'''"
   ]
  },
  {
   "cell_type": "code",
   "execution_count": null,
   "metadata": {},
   "outputs": [],
   "source": [
    "#Indentation and case sensitivity are essential for Python\n",
    "variable=1\n",
    "Variable=2\n",
    "variable==Variable\n",
    "# = is for assigning value, == is for checking equality"
   ]
  },
  {
   "cell_type": "code",
   "execution_count": null,
   "metadata": {},
   "outputs": [],
   "source": [
    "variable=1\n",
    " Variable=2\n",
    "variable==Variable"
   ]
  },
  {
   "cell_type": "code",
   "execution_count": null,
   "metadata": {},
   "outputs": [],
   "source": [
    "    variable=1\n",
    "    Variable=2\n",
    "    variable==Variable"
   ]
  },
  {
   "cell_type": "code",
   "execution_count": null,
   "metadata": {},
   "outputs": [],
   "source": [
    "print(\"3<5\",3<5)\n",
    "print(\"3>5\",3>5)\n",
    "print(\"3==3\",3==3) #equal to\n",
    "print(\"3!=3\",3!=3) #not equal to\n",
    "print(\"3>=2\",3>=2)\n",
    "print(\"3<=3\",3<=3)"
   ]
  },
  {
   "cell_type": "code",
   "execution_count": null,
   "metadata": {
    "collapsed": true
   },
   "outputs": [],
   "source": [
    "(\n",
    "1+1, \n",
    "1-1,\n",
    "5*2,\n",
    "5/2,\n",
    "5%2, #Modulo\n",
    "5**2, #Exponent\n",
    "(2+2)*5 #Enforce precedence\n",
    ")"
   ]
  },
  {
   "cell_type": "code",
   "execution_count": null,
   "metadata": {},
   "outputs": [],
   "source": [
    "(\n",
    "True or True,\n",
    "True or False,\n",
    "False or False,\n",
    "True and False\n",
    ")"
   ]
  },
  {
   "cell_type": "markdown",
   "metadata": {},
   "source": [
    "#### Python Variable Types"
   ]
  },
  {
   "cell_type": "code",
   "execution_count": null,
   "metadata": {
    "collapsed": true
   },
   "outputs": [],
   "source": [
    "#python has 4 variable types:\n",
    "intVar=int()\n",
    "intVar=1\n",
    "floatVar=float()\n",
    "floatVar=1.01\n",
    "stringVar=str()\n",
    "stringVar='1.01'\n",
    "stringVar=\"1.01\"\n",
    "stringVar='''1.01'''\n",
    "booleanVar=bool()\n",
    "booleanVar=True\n",
    "booleanVar=False\n",
    "#You do NOT have to indicate the type of your variables beforehand\n",
    "undeclaredVariable=1"
   ]
  },
  {
   "cell_type": "markdown",
   "metadata": {},
   "source": [
    "#### Fundamental Data Structures"
   ]
  },
  {
   "cell_type": "code",
   "execution_count": null,
   "metadata": {},
   "outputs": [],
   "source": [
    "#Python has 3 major datatypes, all types can hold EVERY type of object\n",
    "#Lists\n",
    "aList=['item1','item2','item3',4,5,6,7.0,[0,1,2]]\n",
    "aList[0]\n",
    "#Indexing starts from 0\n",
    "for item in aList:\n",
    "    print(item)"
   ]
  },
  {
   "cell_type": "code",
   "execution_count": null,
   "metadata": {
    "collapsed": true
   },
   "outputs": [],
   "source": [
    "aList.append(['1','2'])"
   ]
  },
  {
   "cell_type": "code",
   "execution_count": null,
   "metadata": {},
   "outputs": [],
   "source": [
    "aList"
   ]
  },
  {
   "cell_type": "code",
   "execution_count": null,
   "metadata": {},
   "outputs": [],
   "source": [
    "aList.pop(0)"
   ]
  },
  {
   "cell_type": "code",
   "execution_count": null,
   "metadata": {},
   "outputs": [],
   "source": [
    "aList"
   ]
  },
  {
   "cell_type": "code",
   "execution_count": null,
   "metadata": {},
   "outputs": [],
   "source": [
    "#Tuples\n",
    "aTuple=('item1','item2','item3',4,5,6,7.0,[0,1,2],(0,1,2))\n",
    "aTuple[0]\n",
    "for item in aTuple:\n",
    "    print(item)"
   ]
  },
  {
   "cell_type": "code",
   "execution_count": null,
   "metadata": {},
   "outputs": [],
   "source": [
    "#What's the difference? You can change the items in lists but not in tuples\n",
    "aList[0]='NewItem1'\n",
    "aList"
   ]
  },
  {
   "cell_type": "code",
   "execution_count": null,
   "metadata": {
    "collapsed": true
   },
   "outputs": [],
   "source": [
    "aList.append('NewItem!')"
   ]
  },
  {
   "cell_type": "code",
   "execution_count": null,
   "metadata": {},
   "outputs": [],
   "source": [
    "aList"
   ]
  },
  {
   "cell_type": "code",
   "execution_count": null,
   "metadata": {
    "collapsed": true
   },
   "outputs": [],
   "source": [
    "aList.pop(1)"
   ]
  },
  {
   "cell_type": "code",
   "execution_count": null,
   "metadata": {
    "collapsed": true
   },
   "outputs": [],
   "source": [
    "aList"
   ]
  },
  {
   "cell_type": "code",
   "execution_count": null,
   "metadata": {
    "collapsed": true
   },
   "outputs": [],
   "source": [
    "List1=['a','b','c']\n",
    "List2=['d','e','f']\n",
    "list3=List1+List2"
   ]
  },
  {
   "cell_type": "code",
   "execution_count": null,
   "metadata": {},
   "outputs": [],
   "source": [
    "print(list3)"
   ]
  },
  {
   "cell_type": "code",
   "execution_count": null,
   "metadata": {},
   "outputs": [],
   "source": [
    "aTuple[0]='NewItem1'"
   ]
  },
  {
   "cell_type": "code",
   "execution_count": null,
   "metadata": {},
   "outputs": [],
   "source": [
    "#Dictionaries\n",
    "aDict={'key1':'value1','key2':'value2','key3':1.01,1.1:2,1:'value5','key6':[1,2,3],'key7':(1,2,3),'key8':{'key1':'value1'}}\n",
    "aDict['key1']\n",
    "for key,value in aDict.items():\n",
    "    print(key,':',value)\n",
    "aDict['key1']=1"
   ]
  },
  {
   "cell_type": "code",
   "execution_count": null,
   "metadata": {
    "collapsed": true
   },
   "outputs": [],
   "source": [
    "aDict['key1']"
   ]
  },
  {
   "cell_type": "markdown",
   "metadata": {},
   "source": [
    "#### Conditionals if, elif, else "
   ]
  },
  {
   "cell_type": "code",
   "execution_count": null,
   "metadata": {},
   "outputs": [],
   "source": [
    "a=1\n",
    "if a<5:\n",
    "    print('Less than 5')\n",
    "elif 5<a<10:\n",
    "    print('Between 5 and 10')\n",
    "else:\n",
    "    print('More than 10')"
   ]
  },
  {
   "cell_type": "markdown",
   "metadata": {},
   "source": [
    "#### For & While Loops"
   ]
  },
  {
   "cell_type": "code",
   "execution_count": null,
   "metadata": {
    "scrolled": true
   },
   "outputs": [],
   "source": [
    "for item in List1:\n",
    "    item=item+'1'\n",
    "    print(item) "
   ]
  },
  {
   "cell_type": "code",
   "execution_count": null,
   "metadata": {},
   "outputs": [],
   "source": [
    "Iterable=[1,2,3,4,5,6,7]\n",
    "cumSum=0\n",
    "for element in Iterable:\n",
    "    #cumSum=cumSum+element\n",
    "    cumSum+=element\n",
    "cumSum"
   ]
  },
  {
   "cell_type": "code",
   "execution_count": null,
   "metadata": {},
   "outputs": [],
   "source": [
    "myConditionalVariable=0    \n",
    "while myConditionalVariable<20:\n",
    "    print('Not over yet!')\n",
    "    myConditionalVariable+=5"
   ]
  },
  {
   "cell_type": "code",
   "execution_count": null,
   "metadata": {},
   "outputs": [],
   "source": [
    "i=1\n",
    "while i<15:\n",
    "    print(i)\n",
    "    i+=1"
   ]
  },
  {
   "cell_type": "code",
   "execution_count": null,
   "metadata": {
    "collapsed": true
   },
   "outputs": [],
   "source": [
    "while 1:#Or while True\n",
    "    print('Infinite looooop')"
   ]
  },
  {
   "cell_type": "code",
   "execution_count": null,
   "metadata": {
    "collapsed": true,
    "scrolled": true
   },
   "outputs": [],
   "source": [
    "i=1\n",
    "while True:\n",
    "    print(i)\n",
    "    i+=1\n",
    "    if i==15:\n",
    "        break"
   ]
  },
  {
   "cell_type": "code",
   "execution_count": null,
   "metadata": {
    "collapsed": true
   },
   "outputs": [],
   "source": [
    "while 0:#Or while false\n",
    "    print('Never have seen a sun light')"
   ]
  },
  {
   "cell_type": "markdown",
   "metadata": {},
   "source": [
    "#### User Defined Functions"
   ]
  },
  {
   "cell_type": "code",
   "execution_count": null,
   "metadata": {
    "collapsed": true
   },
   "outputs": [],
   "source": [
    "def MySimpleFunction(var):\n",
    "    print('This is a function')\n",
    "    print('This is its argument ',var)\n",
    "    print('I\\'ll multiply this var with 2 if it is an integer')\n",
    "    if isinstance(var,(int,float)):\n",
    "        print(2*var)\n",
    "    else:\n",
    "        print('This is not an integer!')\n"
   ]
  },
  {
   "cell_type": "code",
   "execution_count": null,
   "metadata": {
    "collapsed": true
   },
   "outputs": [],
   "source": [
    "def MyPythonFunction(var,*args,**kwargs):\n",
    "    print(var)\n",
    "    #args is a list\n",
    "    for arg in args:\n",
    "        print(arg)\n",
    "    #kwargs is a dictionary\n",
    "    for key,value in kwargs.items():\n",
    "        print(key,value)"
   ]
  },
  {
   "cell_type": "code",
   "execution_count": null,
   "metadata": {
    "collapsed": true,
    "scrolled": false
   },
   "outputs": [],
   "source": [
    "MySimpleFunction(5)"
   ]
  },
  {
   "cell_type": "code",
   "execution_count": null,
   "metadata": {
    "collapsed": true
   },
   "outputs": [],
   "source": [
    "MySimpleFunction(5.0)"
   ]
  },
  {
   "cell_type": "code",
   "execution_count": null,
   "metadata": {},
   "outputs": [],
   "source": [
    "MyPythonFunction(5,[1,2,3],{'a':1,'b':2})"
   ]
  },
  {
   "cell_type": "markdown",
   "metadata": {},
   "source": [
    "#### Package Import"
   ]
  },
  {
   "cell_type": "code",
   "execution_count": null,
   "metadata": {
    "collapsed": true
   },
   "outputs": [],
   "source": [
    "import pandas as pd\n",
    "import numpy as np\n",
    "import datetime as dt\n",
    "import vertica_python\n",
    "import pyodbc\n",
    "import sys\n",
    "sys.path.append('/DS')\n",
    "import GlobalVariables as var"
   ]
  },
  {
   "cell_type": "markdown",
   "metadata": {},
   "source": [
    "#### Date&Time"
   ]
  },
  {
   "cell_type": "code",
   "execution_count": null,
   "metadata": {},
   "outputs": [],
   "source": [
    "timeNow=dt.datetime.now()"
   ]
  },
  {
   "cell_type": "code",
   "execution_count": null,
   "metadata": {},
   "outputs": [],
   "source": [
    "type(timeNow)"
   ]
  },
  {
   "cell_type": "code",
   "execution_count": null,
   "metadata": {},
   "outputs": [],
   "source": [
    "timeNow"
   ]
  },
  {
   "cell_type": "code",
   "execution_count": null,
   "metadata": {
    "scrolled": true
   },
   "outputs": [],
   "source": [
    "dt.datetime.now().strftime('%Y-%m-%d %H:%M:%S')"
   ]
  },
  {
   "cell_type": "code",
   "execution_count": null,
   "metadata": {},
   "outputs": [],
   "source": [
    "SeventyFiveMinsAgo=dt.datetime.now()-dt.timedelta(minutes=75)\n",
    "SeventyFiveMinsAgo.strftime('%Y-%m-%d %H:%M:%S')"
   ]
  },
  {
   "cell_type": "code",
   "execution_count": null,
   "metadata": {},
   "outputs": [],
   "source": [
    "time='15:53:12 2019-04-15'\n",
    "dt.datetime.strptime(time,'%H:%M:%S %Y-%m-%d')"
   ]
  },
  {
   "cell_type": "code",
   "execution_count": null,
   "metadata": {},
   "outputs": [],
   "source": [
    "dt.datetime.strptime(time,'%H:%M:%S %Y-%m-%d').strftime('%Y-%m-%d %H:%M:%S')"
   ]
  },
  {
   "cell_type": "markdown",
   "metadata": {},
   "source": [
    "#### SQL Queries"
   ]
  },
  {
   "cell_type": "code",
   "execution_count": null,
   "metadata": {
    "collapsed": true
   },
   "outputs": [],
   "source": [
    "conn_info_vertica={\n",
    " 'host': 'tt-pvrt-lback01.trendyol.com',\n",
    " 'port': 5433,\n",
    " 'user': 'your.username',\n",
    " 'password': 'your.password',\n",
    " 'database': 'vdsm'\n",
    "}"
   ]
  },
  {
   "cell_type": "code",
   "execution_count": null,
   "metadata": {
    "collapsed": true
   },
   "outputs": [],
   "source": [
    "sqlserverhost = \"t-sqlrep.trendyol.com\"\n",
    "sqlserverport = 1433\n",
    "sqlserveruser = \"your.username\"\n",
    "sqlserverpwd = \"your.password\"\n",
    "sqlserverdb = \"trendyol\"\n",
    "sqlserverdriver = '/opt/microsoft/msodbcsql/lib64/libmsodbcsql-11.0.so.2270.0'\n",
    "sqlserverconn = \"DRIVER=\"+sqlserverdriver+\";SERVER=\"+sqlserverhost+\";DATABASE=\"+sqlserverdb+\";UID=\"+sqlserveruser+\";PWD=\"+sqlserverpwd"
   ]
  },
  {
   "cell_type": "code",
   "execution_count": null,
   "metadata": {
    "collapsed": true
   },
   "outputs": [],
   "source": [
    "verticaConnection = vertica_python.connect(**var.conn_info_vertica)\n",
    "verticaCursor = verticaConnection.cursor()"
   ]
  },
  {
   "cell_type": "code",
   "execution_count": null,
   "metadata": {
    "collapsed": true
   },
   "outputs": [],
   "source": [
    "MsConnection=pyodbc.connect(var.sqlserverconn)\n",
    "MsCursor=MsConnection.cursor()"
   ]
  },
  {
   "cell_type": "code",
   "execution_count": null,
   "metadata": {
    "collapsed": true
   },
   "outputs": [],
   "source": [
    "desiredDate=(dt.datetime.now()-dt.timedelta(days=1,hours=5,minutes=15)).strftime('%Y-%m-%d %H:%M:%S')"
   ]
  },
  {
   "cell_type": "code",
   "execution_count": null,
   "metadata": {},
   "outputs": [],
   "source": [
    "desiredDate"
   ]
  },
  {
   "cell_type": "code",
   "execution_count": null,
   "metadata": {
    "collapsed": true
   },
   "outputs": [],
   "source": [
    "query1='''select * \n",
    "from clickstream.ordersummary \n",
    "where ts>'{}' limit 200 '''.format(desiredDate)"
   ]
  },
  {
   "cell_type": "code",
   "execution_count": null,
   "metadata": {},
   "outputs": [],
   "source": [
    "print(query1)"
   ]
  },
  {
   "cell_type": "code",
   "execution_count": null,
   "metadata": {
    "collapsed": true
   },
   "outputs": [],
   "source": [
    "VerticaData=pd.read_sql(query1,verticaConnection)"
   ]
  },
  {
   "cell_type": "code",
   "execution_count": null,
   "metadata": {
    "scrolled": true
   },
   "outputs": [],
   "source": [
    "VerticaData.head()"
   ]
  },
  {
   "cell_type": "code",
   "execution_count": null,
   "metadata": {
    "collapsed": true
   },
   "outputs": [],
   "source": [
    "query2='''select * from trendyol.dbo.ac_Orders where OrderDate>'{0}' {1} '''.format(desiredDate,)"
   ]
  },
  {
   "cell_type": "code",
   "execution_count": null,
   "metadata": {},
   "outputs": [],
   "source": [
    "query2"
   ]
  },
  {
   "cell_type": "code",
   "execution_count": null,
   "metadata": {},
   "outputs": [],
   "source": [
    "MsData=pd.read_sql(query2,MsConnection)"
   ]
  },
  {
   "cell_type": "code",
   "execution_count": null,
   "metadata": {},
   "outputs": [],
   "source": [
    "MsData.head()"
   ]
  },
  {
   "cell_type": "code",
   "execution_count": null,
   "metadata": {},
   "outputs": [],
   "source": [
    "MsData[['OrderId']].head()"
   ]
  },
  {
   "cell_type": "code",
   "execution_count": null,
   "metadata": {
    "scrolled": true
   },
   "outputs": [],
   "source": [
    "MsData[['OrderId','OrderNumber']].head(20)"
   ]
  },
  {
   "cell_type": "code",
   "execution_count": null,
   "metadata": {
    "scrolled": true
   },
   "outputs": [],
   "source": [
    "MsData[(MsData['IsShipmentCreated']==True)&(MsData['BillToFirstName']=='Elif')]"
   ]
  },
  {
   "cell_type": "code",
   "execution_count": null,
   "metadata": {},
   "outputs": [],
   "source": [
    "query3='''\n",
    "create table ml.PythonCrashCourse as\n",
    "select channel,count(channel) \n",
    "from clickstream.sessionstarted \n",
    "where ts>getdate()-1\n",
    "group by channel\n",
    "'''\n",
    "verticaCursor.execute(query3)"
   ]
  },
  {
   "cell_type": "code",
   "execution_count": null,
   "metadata": {},
   "outputs": [],
   "source": [
    "verticaCursor.execute('select * from ml.PythonCrashCourse').fetchall()"
   ]
  },
  {
   "cell_type": "code",
   "execution_count": null,
   "metadata": {},
   "outputs": [],
   "source": [
    "verticaCursor.execute('drop table if exists ml.PythonCrashCourse')"
   ]
  },
  {
   "cell_type": "code",
   "execution_count": null,
   "metadata": {
    "collapsed": true
   },
   "outputs": [],
   "source": [
    "import sys\n",
    "sys.path.append('/DS')\n",
    "import GlobalVariables as var\n",
    "import sys\n",
    "sys.path.append('/DS')\n",
    "from GlobalVariables import slackMessage"
   ]
  },
  {
   "cell_type": "code",
   "execution_count": null,
   "metadata": {
    "collapsed": true
   },
   "outputs": [],
   "source": [
    "message='Formu doldurmayı unutmatın :bananadance: https://docs.google.com/forms/d/e/1FAIpQLSdYYzZ6d5Q9N23jLwMcdm9VYc9lQJOzD9ziuSScbNHpTBw6lg/viewform'\n",
    "slackMessage(message,['ds_python_eğitimi'])"
   ]
  },
  {
   "cell_type": "code",
   "execution_count": null,
   "metadata": {
    "collapsed": true
   },
   "outputs": [],
   "source": [
    "for i in range(10):\n",
    "    print(i)\n",
    "    if i>11:\n",
    "        break"
   ]
  },
  {
   "cell_type": "code",
   "execution_count": null,
   "metadata": {
    "collapsed": true
   },
   "outputs": [],
   "source": [
    "try:\n",
    "    verticaCursor.execute('select * from ml.PythonCrashCourse').fetchall()\n",
    "except:\n",
    "    print('I cant do it')"
   ]
  },
  {
   "cell_type": "code",
   "execution_count": null,
   "metadata": {
    "collapsed": true
   },
   "outputs": [],
   "source": [
    "get_ipython().system('jupyter nbconvert --to script \"Python Crash Course.ipynb\"')"
   ]
  }
 ],
 "metadata": {
  "kernelspec": {
   "display_name": "Python 3",
   "language": "python",
   "name": "python3"
  },
  "language_info": {
   "codemirror_mode": {
    "name": "ipython",
    "version": 3
   },
   "file_extension": ".py",
   "mimetype": "text/x-python",
   "name": "python",
   "nbconvert_exporter": "python",
   "pygments_lexer": "ipython3",
   "version": "3.7.4"
  }
 },
 "nbformat": 4,
 "nbformat_minor": 2
}
