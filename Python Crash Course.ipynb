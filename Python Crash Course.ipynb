{
 "cells": [
  {
   "cell_type": "markdown",
   "metadata": {},
   "source": [
    "# Python Use cases"
   ]
  },
  {
   "cell_type": "markdown",
   "metadata": {},
   "source": [
    "![image](https://techcrunch.com/wp-content/uploads/2019/04/blackhole.jpg?w=1390&crop=1)\n",
    "![image](https://techcrunch.com/wp-content/uploads/2019/04/Screen-Shot-2019-04-11-at-11.11.37-AM.png?resize=680,487)\n",
    "![title](https://imgs.xkcd.com/comics/python.png)"
   ]
  },
  {
   "cell_type": "markdown",
   "metadata": {},
   "source": [
    "### Anaconda & Jupyter Notebook"
   ]
  },
  {
   "cell_type": "markdown",
   "metadata": {},
   "source": [
    "Donwload at https://www.anaconda.com/distribution/#download-section"
   ]
  },
  {
   "cell_type": "markdown",
   "metadata": {},
   "source": [
    "### Commenting, Indentation & Operators"
   ]
  },
  {
   "cell_type": "code",
   "execution_count": null,
   "metadata": {
    "collapsed": true
   },
   "outputs": [],
   "source": [
    "# You can make comments in python script using '#' (hash) sign\n",
    "'''\n",
    "Multiline comment\n",
    "asd\n",
    "asd\n",
    "ads\n",
    "'''"
   ]
  },
  {
   "cell_type": "code",
   "execution_count": null,
   "metadata": {},
   "outputs": [],
   "source": [
    "#Indentation and case sensitivity are essential for Python\n",
    "variable=1\n",
    "Variable=2\n",
    "variable==Variable\n",
    "# = is for assigning value, == is for checking equality"
   ]
  },
  {
   "cell_type": "code",
   "execution_count": null,
   "metadata": {},
   "outputs": [],
   "source": [
    "variable=1\n",
    " Variable=2\n",
    "variable==Variable"
   ]
  },
  {
   "cell_type": "code",
   "execution_count": null,
   "metadata": {},
   "outputs": [],
   "source": [
    "    variable=1\n",
    "    Variable=2\n",
    "    variable==Variable"
   ]
  },
  {
   "cell_type": "code",
   "execution_count": null,
   "metadata": {},
   "outputs": [],
   "source": [
    "print(\"3<5\",3<5)\n",
    "print(\"3>5\",3>5)\n",
    "print(\"3==3\",3==3) #equal to\n",
    "print(\"3!=3\",3!=3) #not equal to\n",
    "print(\"3>=2\",3>=2)\n",
    "print(\"3<=3\",3<=3)"
   ]
  },
  {
   "cell_type": "code",
   "execution_count": null,
   "metadata": {
    "collapsed": true
   },
   "outputs": [],
   "source": [
    "(\n",
    "1+1, \n",
    "1-1,\n",
    "5*2,\n",
    "5/2,\n",
    "5%2, #Modulo\n",
    "5**2, #Exponent\n",
    "(2+2)*5 #Enforce precedence\n",
    ")"
   ]
  },
  {
   "cell_type": "code",
   "execution_count": null,
   "metadata": {},
   "outputs": [],
   "source": [
    "(\n",
    "    True or True,\n",
    "    True or False,\n",
    "    False or False,\n",
    "    True and False\n",
    ")"
   ]
  },
  {
   "cell_type": "code",
   "execution_count": 173,
   "metadata": {},
   "outputs": [
    {
     "data": {
      "text/plain": [
       "(True, True, False, False)"
      ]
     },
     "execution_count": 173,
     "metadata": {},
     "output_type": "execute_result"
    }
   ],
   "source": [
    "(\n",
    "    True | True,\n",
    "    True | False,\n",
    "    False | False,\n",
    "    True & False\n",
    ")"
   ]
  },
  {
   "cell_type": "markdown",
   "metadata": {},
   "source": [
    "#### Python Variable Types"
   ]
  },
  {
   "cell_type": "code",
   "execution_count": null,
   "metadata": {
    "collapsed": true
   },
   "outputs": [],
   "source": [
    "#python has 4 variable types:\n",
    "intVar=int()\n",
    "intVar=1\n",
    "floatVar=float()\n",
    "floatVar=1.01\n",
    "stringVar=str()\n",
    "stringVar='1.01'\n",
    "stringVar=\"1.01\"\n",
    "stringVar='''1.01'''\n",
    "booleanVar=bool()\n",
    "booleanVar=True\n",
    "booleanVar=False\n",
    "#You do NOT have to indicate the type of your variables beforehand\n",
    "undeclaredVariable=1"
   ]
  },
  {
   "cell_type": "markdown",
   "metadata": {},
   "source": [
    "#### String formatting"
   ]
  },
  {
   "cell_type": "code",
   "execution_count": 155,
   "metadata": {},
   "outputs": [],
   "source": [
    "var1 = 15\n",
    "var2 = 3\n",
    "string1 = 'number 1: {0} \\nnumber 2: {1}\\n'.format(var1,var2)\n",
    "string2 = f'number 1: {var1} \\nnumber 2: {var2}\\n'\n",
    "string3 = f'number 1: %s \\nnumber 2: %s\\n' %(var1,var2)"
   ]
  },
  {
   "cell_type": "code",
   "execution_count": null,
   "metadata": {},
   "outputs": [],
   "source": [
    "print(string1)\n",
    "print(string2)\n",
    "print(string3)"
   ]
  },
  {
   "cell_type": "markdown",
   "metadata": {},
   "source": [
    "#### Conditionals if, elif, else "
   ]
  },
  {
   "cell_type": "code",
   "execution_count": null,
   "metadata": {},
   "outputs": [],
   "source": [
    "a=1\n",
    "if a<5:\n",
    "    print('Less than 5')\n",
    "elif 5<=a<8:\n",
    "    print('Between 5 and 8')\n",
    "elif a>=8 and a < 10:\n",
    "    print('Between 8 and 10')\n",
    "else:\n",
    "    print('More than 10')"
   ]
  },
  {
   "cell_type": "markdown",
   "metadata": {},
   "source": [
    "#### Truthy & Falsy"
   ]
  },
  {
   "cell_type": "code",
   "execution_count": 170,
   "metadata": {},
   "outputs": [
    {
     "data": {
      "text/plain": [
       "(False, True, True, False)"
      ]
     },
     "execution_count": 170,
     "metadata": {},
     "output_type": "execute_result"
    }
   ],
   "source": [
    "bool(0),bool(1),bool(-1),bool([''])"
   ]
  },
  {
   "cell_type": "code",
   "execution_count": 167,
   "metadata": {},
   "outputs": [
    {
     "data": {
      "text/plain": [
       "(False, False, False, False, False, False)"
      ]
     },
     "execution_count": 167,
     "metadata": {},
     "output_type": "execute_result"
    }
   ],
   "source": [
    "bool(0),bool([]),bool(''),bool(()),bool({}),bool(None)"
   ]
  },
  {
   "cell_type": "code",
   "execution_count": 187,
   "metadata": {},
   "outputs": [
    {
     "data": {
      "text/plain": [
       "0"
      ]
     },
     "execution_count": 187,
     "metadata": {},
     "output_type": "execute_result"
    }
   ],
   "source": [
    "0 and 10"
   ]
  },
  {
   "cell_type": "code",
   "execution_count": 184,
   "metadata": {},
   "outputs": [
    {
     "data": {
      "text/plain": [
       "0"
      ]
     },
     "execution_count": 184,
     "metadata": {},
     "output_type": "execute_result"
    }
   ],
   "source": [
    "True and 0"
   ]
  },
  {
   "cell_type": "code",
   "execution_count": 182,
   "metadata": {
    "scrolled": true
   },
   "outputs": [
    {
     "data": {
      "text/plain": [
       "1"
      ]
     },
     "execution_count": 182,
     "metadata": {},
     "output_type": "execute_result"
    }
   ],
   "source": [
    "False or 1"
   ]
  },
  {
   "cell_type": "code",
   "execution_count": 171,
   "metadata": {},
   "outputs": [
    {
     "name": "stdout",
     "output_type": "stream",
     "text": [
      "False\n"
     ]
    }
   ],
   "source": [
    "if []:\n",
    "    print(True)\n",
    "else:\n",
    "    print(False)"
   ]
  },
  {
   "cell_type": "code",
   "execution_count": 172,
   "metadata": {},
   "outputs": [
    {
     "name": "stdout",
     "output_type": "stream",
     "text": [
      "True\n"
     ]
    }
   ],
   "source": [
    "if not []:\n",
    "    print(True)"
   ]
  },
  {
   "cell_type": "markdown",
   "metadata": {},
   "source": [
    "#### Fundamental Data Structures"
   ]
  },
  {
   "cell_type": "code",
   "execution_count": null,
   "metadata": {},
   "outputs": [],
   "source": [
    "#Python has 3 major datatypes, all types can hold EVERY type of object\n",
    "#Lists\n",
    "aList=['item1','item2','item3',4,5,6,7.0,[0,1,2]]\n",
    "aList[0]\n",
    "#Indexing starts from 0\n",
    "for item in aList:\n",
    "    print(item)"
   ]
  },
  {
   "cell_type": "code",
   "execution_count": null,
   "metadata": {
    "collapsed": true
   },
   "outputs": [],
   "source": [
    "aList.append(['1','2'])"
   ]
  },
  {
   "cell_type": "code",
   "execution_count": null,
   "metadata": {},
   "outputs": [],
   "source": [
    "aList"
   ]
  },
  {
   "cell_type": "code",
   "execution_count": null,
   "metadata": {},
   "outputs": [],
   "source": [
    "aList.pop(0)"
   ]
  },
  {
   "cell_type": "code",
   "execution_count": null,
   "metadata": {},
   "outputs": [],
   "source": [
    "aList"
   ]
  },
  {
   "cell_type": "code",
   "execution_count": null,
   "metadata": {},
   "outputs": [],
   "source": [
    "#Tuples\n",
    "aTuple=('item1','item2','item3',4,5,6,7.0,[0,1,2],(0,1,2))\n",
    "aTuple[0]\n",
    "for item in aTuple:\n",
    "    print(item)"
   ]
  },
  {
   "cell_type": "code",
   "execution_count": null,
   "metadata": {},
   "outputs": [],
   "source": [
    "#What's the difference? You can change the items in lists but not in tuples\n",
    "aList[0] = 'NewItem1'\n",
    "aList"
   ]
  },
  {
   "cell_type": "code",
   "execution_count": null,
   "metadata": {
    "collapsed": true
   },
   "outputs": [],
   "source": [
    "aList.append('NewItem!')"
   ]
  },
  {
   "cell_type": "code",
   "execution_count": null,
   "metadata": {},
   "outputs": [],
   "source": [
    "aList"
   ]
  },
  {
   "cell_type": "code",
   "execution_count": null,
   "metadata": {
    "collapsed": true
   },
   "outputs": [],
   "source": [
    "aList.pop(1)"
   ]
  },
  {
   "cell_type": "code",
   "execution_count": null,
   "metadata": {
    "collapsed": true
   },
   "outputs": [],
   "source": [
    "aList"
   ]
  },
  {
   "cell_type": "code",
   "execution_count": null,
   "metadata": {
    "collapsed": true
   },
   "outputs": [],
   "source": [
    "List1 = ['a','b','c']\n",
    "List2 = ['d','e','f']\n",
    "list3 = List1+List2"
   ]
  },
  {
   "cell_type": "code",
   "execution_count": null,
   "metadata": {},
   "outputs": [],
   "source": [
    "print(list3)"
   ]
  },
  {
   "cell_type": "code",
   "execution_count": 198,
   "metadata": {},
   "outputs": [],
   "source": [
    "fullList = [1,2,3,4,5,6,7,8]\n",
    "smallList = [number for number in fullList if number%2==0]\n",
    "squaredList = [number**2 for number in fullList]"
   ]
  },
  {
   "cell_type": "code",
   "execution_count": 199,
   "metadata": {},
   "outputs": [
    {
     "data": {
      "text/plain": [
       "[2, 4, 6, 8]"
      ]
     },
     "execution_count": 199,
     "metadata": {},
     "output_type": "execute_result"
    }
   ],
   "source": [
    "smallList"
   ]
  },
  {
   "cell_type": "code",
   "execution_count": 200,
   "metadata": {},
   "outputs": [
    {
     "data": {
      "text/plain": [
       "[1, 4, 9, 16, 25, 36, 49, 64]"
      ]
     },
     "execution_count": 200,
     "metadata": {},
     "output_type": "execute_result"
    }
   ],
   "source": [
    "squaredList"
   ]
  },
  {
   "cell_type": "code",
   "execution_count": null,
   "metadata": {},
   "outputs": [],
   "source": [
    "aTuple[0]='NewItem1'"
   ]
  },
  {
   "cell_type": "code",
   "execution_count": null,
   "metadata": {},
   "outputs": [],
   "source": [
    "#Dictionaries\n",
    "aDict={\n",
    "        'key1':'value1',\n",
    "        'key2':'value2',\n",
    "        'key3':1.01,\n",
    "        1.1:2,\n",
    "        1:'value5',\n",
    "        'key6':[1,2,3],\n",
    "        'key7':(1,2,3),\n",
    "        'key8':{\n",
    "                'key1':'value1'\n",
    "                }\n",
    "    }\n",
    "aDict['key1']\n",
    "for key,value in aDict.items():\n",
    "    print(key,':',value)\n",
    "aDict['key1'] = 1"
   ]
  },
  {
   "cell_type": "code",
   "execution_count": null,
   "metadata": {
    "collapsed": true
   },
   "outputs": [],
   "source": [
    "aDict['key1']"
   ]
  },
  {
   "cell_type": "markdown",
   "metadata": {},
   "source": [
    "#### For & While Loops"
   ]
  },
  {
   "cell_type": "code",
   "execution_count": null,
   "metadata": {
    "scrolled": true
   },
   "outputs": [],
   "source": [
    "for item in List1:\n",
    "    item=item+'1'\n",
    "    print(item) "
   ]
  },
  {
   "cell_type": "code",
   "execution_count": null,
   "metadata": {},
   "outputs": [],
   "source": [
    "Iterable=[1,2,3,4,5,6,7]\n",
    "cumSum=0\n",
    "for element in Iterable:\n",
    "    #cumSum=cumSum+element\n",
    "    cumSum+=element\n",
    "cumSum"
   ]
  },
  {
   "cell_type": "code",
   "execution_count": null,
   "metadata": {},
   "outputs": [],
   "source": [
    "myConditionalVariable=0    \n",
    "while myConditionalVariable<20:\n",
    "    print('Not over yet!')\n",
    "    myConditionalVariable+=5"
   ]
  },
  {
   "cell_type": "code",
   "execution_count": null,
   "metadata": {},
   "outputs": [],
   "source": [
    "i=1\n",
    "while i<15:\n",
    "    print(i)\n",
    "    i+=1"
   ]
  },
  {
   "cell_type": "code",
   "execution_count": null,
   "metadata": {
    "collapsed": true
   },
   "outputs": [],
   "source": [
    "while 1:#Or while True\n",
    "    print('Infinite looooop')"
   ]
  },
  {
   "cell_type": "code",
   "execution_count": null,
   "metadata": {},
   "outputs": [],
   "source": [
    "while 0:#Or while false\n",
    "    print('Never have seen a sun light')"
   ]
  },
  {
   "cell_type": "markdown",
   "metadata": {},
   "source": [
    "####  Break out of loop"
   ]
  },
  {
   "cell_type": "code",
   "execution_count": null,
   "metadata": {},
   "outputs": [],
   "source": [
    "i=1\n",
    "while True:\n",
    "    print(i)\n",
    "    i+=1\n",
    "    if i==15:\n",
    "        break"
   ]
  },
  {
   "cell_type": "code",
   "execution_count": 158,
   "metadata": {},
   "outputs": [
    {
     "name": "stdout",
     "output_type": "stream",
     "text": [
      "0\n",
      "1\n",
      "2\n",
      "3\n",
      "4\n",
      "5\n",
      "6\n"
     ]
    }
   ],
   "source": [
    "for i in range(10):\n",
    "    print(i)\n",
    "    if i>5:\n",
    "        break"
   ]
  },
  {
   "cell_type": "code",
   "execution_count": 161,
   "metadata": {},
   "outputs": [
    {
     "name": "stdout",
     "output_type": "stream",
     "text": [
      "0\n",
      "1\n",
      "2\n",
      "3\n",
      "4\n",
      "5\n"
     ]
    }
   ],
   "source": [
    "i = 0\n",
    "while True:\n",
    "    print(i)\n",
    "    i+=1\n",
    "    if i>5:\n",
    "        break"
   ]
  },
  {
   "cell_type": "markdown",
   "metadata": {
    "collapsed": true
   },
   "source": [
    "#### Continue the loop"
   ]
  },
  {
   "cell_type": "code",
   "execution_count": null,
   "metadata": {},
   "outputs": [],
   "source": [
    "for i in range(10):\n",
    "    if i < 5:\n",
    "        continue\n",
    "    else:\n",
    "        print(i)"
   ]
  },
  {
   "cell_type": "markdown",
   "metadata": {},
   "source": [
    "#### For loop + String formatting = Automation"
   ]
  },
  {
   "cell_type": "code",
   "execution_count": 205,
   "metadata": {
    "scrolled": false
   },
   "outputs": [
    {
     "name": "stdout",
     "output_type": "stream",
     "text": [
      "\n",
      "        create table myTable_1 as\n",
      "        select *\n",
      "        from db.table\n",
      "        where month between 1 and 2\n",
      "    \n",
      "\n",
      "        create table myTable_2 as\n",
      "        select *\n",
      "        from db.table\n",
      "        where month between 2 and 3\n",
      "    \n",
      "\n",
      "        create table myTable_3 as\n",
      "        select *\n",
      "        from db.table\n",
      "        where month between 3 and 4\n",
      "    \n",
      "\n",
      "        create table myTable_4 as\n",
      "        select *\n",
      "        from db.table\n",
      "        where month between 4 and 5\n",
      "    \n",
      "\n",
      "        create table myTable_5 as\n",
      "        select *\n",
      "        from db.table\n",
      "        where month between 5 and 6\n",
      "    \n",
      "\n",
      "        create table myTable_6 as\n",
      "        select *\n",
      "        from db.table\n",
      "        where month between 6 and 7\n",
      "    \n",
      "\n",
      "        create table myTable_7 as\n",
      "        select *\n",
      "        from db.table\n",
      "        where month between 7 and 8\n",
      "    \n",
      "\n",
      "        create table myTable_8 as\n",
      "        select *\n",
      "        from db.table\n",
      "        where month between 8 and 9\n",
      "    \n",
      "\n",
      "        create table myTable_9 as\n",
      "        select *\n",
      "        from db.table\n",
      "        where month between 9 and 10\n",
      "    \n",
      "\n",
      "        create table myTable_10 as\n",
      "        select *\n",
      "        from db.table\n",
      "        where month between 10 and 11\n",
      "    \n",
      "\n",
      "        create table myTable_11 as\n",
      "        select *\n",
      "        from db.table\n",
      "        where month between 11 and 12\n",
      "    \n"
     ]
    }
   ],
   "source": [
    "for index,month in enumerate(range(1,12)):\n",
    "    query = f'''\n",
    "        create table myTable_{index+1} as\n",
    "        select *\n",
    "        from db.table\n",
    "        where month between {month} and {month+1}\n",
    "    '''\n",
    "    print(query)"
   ]
  },
  {
   "cell_type": "markdown",
   "metadata": {},
   "source": [
    "#### User Defined Functions"
   ]
  },
  {
   "cell_type": "code",
   "execution_count": null,
   "metadata": {},
   "outputs": [],
   "source": [
    "#Built-ins (some of them)\n",
    "\n",
    "#Math\n",
    "min()\n",
    "max()\n",
    "sum()\n",
    "abs()\n",
    "round()\n",
    "\n",
    "#Logical\n",
    "all()\n",
    "any()\n",
    "\n",
    "#Type coercion\n",
    "set()\n",
    "dict()\n",
    "bool()\n",
    "int()\n",
    "str()\n",
    "float()\n",
    "tuple()\n",
    "chr()\n",
    "list()\n",
    "\n",
    "#Iterable functions\n",
    "sorted()\n",
    "reversed()\n",
    "enumerate()\n",
    "len()\n",
    "zip()\n",
    "filter()\n",
    "\n",
    "range()\n",
    "map()\n",
    "\n",
    "#General\n",
    "print()\n",
    "type()\n",
    "dir()\n",
    "isinstance()"
   ]
  },
  {
   "cell_type": "code",
   "execution_count": 5,
   "metadata": {},
   "outputs": [],
   "source": [
    "List1 = [4,5,1,2,12,14,23]\n",
    "List1 = [1,2,3,4,5,6,7]\n",
    "aLogicalList = [True,False,True]"
   ]
  },
  {
   "cell_type": "code",
   "execution_count": 15,
   "metadata": {
    "scrolled": true
   },
   "outputs": [
    {
     "data": {
      "text/plain": [
       "[4, 5, 1, 2, 12, 14, 23]"
      ]
     },
     "execution_count": 15,
     "metadata": {},
     "output_type": "execute_result"
    }
   ],
   "source": [
    "List1"
   ]
  },
  {
   "cell_type": "code",
   "execution_count": 8,
   "metadata": {},
   "outputs": [
    {
     "data": {
      "text/plain": [
       "[4, 5, 1, 2, 12, 14, 23]"
      ]
     },
     "execution_count": 8,
     "metadata": {},
     "output_type": "execute_result"
    }
   ],
   "source": [
    "List2"
   ]
  },
  {
   "cell_type": "code",
   "execution_count": null,
   "metadata": {
    "collapsed": true
   },
   "outputs": [],
   "source": [
    "def MySimpleFunction(var):\n",
    "    print('This is a function')\n",
    "    print('This is its argument ',var)\n",
    "    print('I\\'ll multiply this var with 2 if it is an integer')\n",
    "    if isinstance(var,(int,float)):\n",
    "        print(2*var)\n",
    "    else:\n",
    "        print('This is not an integer!')\n"
   ]
  },
  {
   "cell_type": "code",
   "execution_count": null,
   "metadata": {
    "collapsed": true
   },
   "outputs": [],
   "source": [
    "def MyPythonFunction(var,*args,**kwargs):\n",
    "    print(var)\n",
    "    #args is a list\n",
    "    for arg in args:\n",
    "        print(arg)\n",
    "    #kwargs is a dictionary\n",
    "    for key,value in kwargs.items():\n",
    "        print(key,value)"
   ]
  },
  {
   "cell_type": "code",
   "execution_count": null,
   "metadata": {
    "collapsed": true,
    "scrolled": false
   },
   "outputs": [],
   "source": [
    "MySimpleFunction(5)"
   ]
  },
  {
   "cell_type": "code",
   "execution_count": null,
   "metadata": {
    "collapsed": true
   },
   "outputs": [],
   "source": [
    "MySimpleFunction(5.0)"
   ]
  },
  {
   "cell_type": "code",
   "execution_count": null,
   "metadata": {},
   "outputs": [],
   "source": [
    "MyPythonFunction(5,[1,2,3],{'a':1,'b':2})"
   ]
  },
  {
   "cell_type": "code",
   "execution_count": 143,
   "metadata": {},
   "outputs": [],
   "source": [
    "class Person():\n",
    "    isAlive = True\n",
    "    def __init__(self,name = 'Ali',surname='Yılmaz',age=20):\n",
    "        self.name = name\n",
    "        self.surname = surname\n",
    "        self.age = age\n",
    "    def die(self):\n",
    "        self.isAlive = False\n",
    "        print('Goodbye cruel world..')\n",
    "    def revive(self):\n",
    "        if not self.isAlive:\n",
    "            self.isAlive = True\n",
    "        else:\n",
    "            print(f'{name} is not dead yet!')\n",
    "\n",
    "class Employee(Person): #Inheritance\n",
    "    company, profession = None, None\n",
    "    def __init__(self,name = 'Ali',surname='Yılmaz',age=20,company=None,profession=None):\n",
    "        super().__init__(name,surname,age)\n",
    "        if company:\n",
    "            self.company = company\n",
    "        if profession:\n",
    "            self.profession = profession\n",
    "    def getCompany(self):\n",
    "        if self.company:\n",
    "            print(self.company)\n",
    "        else:\n",
    "            print(f'{self.name} does not have a job')\n",
    "    def getProfession(self):\n",
    "        if self.profession:\n",
    "            print(self.profession)\n",
    "        else:\n",
    "            print(f'{self.name} does not have a profession')\n",
    "    def setCompany(self,newCompany):\n",
    "        self.company = newCompany\n",
    "    def setProfession(self,newProfession):\n",
    "        self.profession = newProfession\n",
    "    @classmethod\n",
    "    def sayHello(self):\n",
    "        print('Hello all!')"
   ]
  },
  {
   "cell_type": "code",
   "execution_count": 111,
   "metadata": {},
   "outputs": [],
   "source": [
    "randomPerson = Person()"
   ]
  },
  {
   "cell_type": "code",
   "execution_count": 112,
   "metadata": {},
   "outputs": [
    {
     "data": {
      "text/plain": [
       "('Ali', 'Yılmaz', 20)"
      ]
     },
     "execution_count": 112,
     "metadata": {},
     "output_type": "execute_result"
    }
   ],
   "source": [
    "randomPerson.name, randomPerson.surname, randomPerson.age"
   ]
  },
  {
   "cell_type": "code",
   "execution_count": 113,
   "metadata": {},
   "outputs": [],
   "source": [
    "kaan = Person('Kaan','Aytekin',25)"
   ]
  },
  {
   "cell_type": "code",
   "execution_count": 114,
   "metadata": {
    "scrolled": true
   },
   "outputs": [
    {
     "data": {
      "text/plain": [
       "('Kaan', 'Aytekin', 25)"
      ]
     },
     "execution_count": 114,
     "metadata": {},
     "output_type": "execute_result"
    }
   ],
   "source": [
    "kaan.name, kaan.surname, kaan.age"
   ]
  },
  {
   "cell_type": "code",
   "execution_count": 115,
   "metadata": {},
   "outputs": [],
   "source": [
    "employee = Employee('Bahtsız','Bedevi',25,'Trendyol')"
   ]
  },
  {
   "cell_type": "code",
   "execution_count": 116,
   "metadata": {},
   "outputs": [
    {
     "data": {
      "text/plain": [
       "('Bahtsız', 'Bedevi', 25, 'Trendyol', None)"
      ]
     },
     "execution_count": 116,
     "metadata": {},
     "output_type": "execute_result"
    }
   ],
   "source": [
    "employee.name, employee.surname, employee.age, employee.company, employee.profession"
   ]
  },
  {
   "cell_type": "code",
   "execution_count": 117,
   "metadata": {},
   "outputs": [],
   "source": [
    "employee.setCompany(None)"
   ]
  },
  {
   "cell_type": "code",
   "execution_count": 118,
   "metadata": {},
   "outputs": [],
   "source": [
    "employee.company"
   ]
  },
  {
   "cell_type": "code",
   "execution_count": 119,
   "metadata": {},
   "outputs": [
    {
     "name": "stdout",
     "output_type": "stream",
     "text": [
      "Bahtsız does not have a job\n"
     ]
    }
   ],
   "source": [
    "employee.getCompany()"
   ]
  },
  {
   "cell_type": "code",
   "execution_count": 120,
   "metadata": {},
   "outputs": [],
   "source": [
    "employee.setProfession('Data Scientist')"
   ]
  },
  {
   "cell_type": "code",
   "execution_count": 121,
   "metadata": {},
   "outputs": [
    {
     "data": {
      "text/plain": [
       "'Data Scientist'"
      ]
     },
     "execution_count": 121,
     "metadata": {},
     "output_type": "execute_result"
    }
   ],
   "source": [
    "employee.profession"
   ]
  },
  {
   "cell_type": "code",
   "execution_count": 122,
   "metadata": {},
   "outputs": [
    {
     "name": "stdout",
     "output_type": "stream",
     "text": [
      "Data Scientist\n"
     ]
    }
   ],
   "source": [
    "employee.getProfession()"
   ]
  },
  {
   "cell_type": "code",
   "execution_count": 123,
   "metadata": {},
   "outputs": [],
   "source": [
    "employee.profession = None"
   ]
  },
  {
   "cell_type": "code",
   "execution_count": 124,
   "metadata": {},
   "outputs": [
    {
     "name": "stdout",
     "output_type": "stream",
     "text": [
      "Bahtsız does not have a profession\n"
     ]
    }
   ],
   "source": [
    "employee.getProfession()"
   ]
  },
  {
   "cell_type": "code",
   "execution_count": 136,
   "metadata": {
    "scrolled": true
   },
   "outputs": [
    {
     "name": "stdout",
     "output_type": "stream",
     "text": [
      "Hello all!\n"
     ]
    }
   ],
   "source": [
    "employee.sayHello()"
   ]
  },
  {
   "cell_type": "code",
   "execution_count": 137,
   "metadata": {},
   "outputs": [
    {
     "name": "stdout",
     "output_type": "stream",
     "text": [
      "Ahh..\n"
     ]
    }
   ],
   "source": [
    "employee.die()"
   ]
  },
  {
   "cell_type": "code",
   "execution_count": 138,
   "metadata": {},
   "outputs": [
    {
     "data": {
      "text/plain": [
       "False"
      ]
     },
     "execution_count": 138,
     "metadata": {},
     "output_type": "execute_result"
    }
   ],
   "source": [
    "employee.isAlive"
   ]
  },
  {
   "cell_type": "code",
   "execution_count": 139,
   "metadata": {},
   "outputs": [],
   "source": [
    "employee.revive()"
   ]
  },
  {
   "cell_type": "code",
   "execution_count": 140,
   "metadata": {},
   "outputs": [
    {
     "data": {
      "text/plain": [
       "True"
      ]
     },
     "execution_count": 140,
     "metadata": {},
     "output_type": "execute_result"
    }
   ],
   "source": [
    "employee.isAlive"
   ]
  },
  {
   "cell_type": "code",
   "execution_count": 141,
   "metadata": {},
   "outputs": [
    {
     "ename": "TypeError",
     "evalue": "getProfession() missing 1 required positional argument: 'self'",
     "output_type": "error",
     "traceback": [
      "\u001b[0;31m---------------------------------------------------------------------------\u001b[0m",
      "\u001b[0;31mTypeError\u001b[0m                                 Traceback (most recent call last)",
      "\u001b[0;32m<ipython-input-141-e4601fe87a78>\u001b[0m in \u001b[0;36m<module>\u001b[0;34m\u001b[0m\n\u001b[0;32m----> 1\u001b[0;31m \u001b[0mEmployee\u001b[0m\u001b[0;34m.\u001b[0m\u001b[0mgetProfession\u001b[0m\u001b[0;34m(\u001b[0m\u001b[0;34m)\u001b[0m\u001b[0;34m\u001b[0m\u001b[0;34m\u001b[0m\u001b[0m\n\u001b[0m",
      "\u001b[0;31mTypeError\u001b[0m: getProfession() missing 1 required positional argument: 'self'"
     ]
    }
   ],
   "source": [
    "Employee.getProfession()"
   ]
  },
  {
   "cell_type": "code",
   "execution_count": 142,
   "metadata": {},
   "outputs": [
    {
     "name": "stdout",
     "output_type": "stream",
     "text": [
      "Hello all!\n"
     ]
    }
   ],
   "source": [
    "Employee.sayHello()"
   ]
  },
  {
   "cell_type": "markdown",
   "metadata": {},
   "source": [
    "#### Package Import"
   ]
  },
  {
   "cell_type": "code",
   "execution_count": null,
   "metadata": {
    "collapsed": true
   },
   "outputs": [],
   "source": [
    "import pandas as pd\n",
    "import numpy as np\n",
    "import datetime as dt\n",
    "import vertica_python\n",
    "import pyodbc\n",
    "import sys\n",
    "sys.path.append('/DS')\n",
    "import GlobalVariables as var"
   ]
  },
  {
   "cell_type": "markdown",
   "metadata": {},
   "source": [
    "Documentation is key <br>\n",
    "https://pandas.pydata.org/pandas-docs/stable/ <br>\n",
    "https://numpy.org/devdocs/reference/index.html <br>\n",
    "https://docs.python.org/3/library/"
   ]
  },
  {
   "cell_type": "markdown",
   "metadata": {},
   "source": [
    "#### Date&Time"
   ]
  },
  {
   "cell_type": "code",
   "execution_count": null,
   "metadata": {},
   "outputs": [],
   "source": [
    "timeNow=dt.datetime.now()"
   ]
  },
  {
   "cell_type": "code",
   "execution_count": null,
   "metadata": {},
   "outputs": [],
   "source": [
    "type(timeNow)"
   ]
  },
  {
   "cell_type": "code",
   "execution_count": null,
   "metadata": {},
   "outputs": [],
   "source": [
    "timeNow"
   ]
  },
  {
   "cell_type": "code",
   "execution_count": null,
   "metadata": {
    "scrolled": true
   },
   "outputs": [],
   "source": [
    "dt.datetime.now().strftime('%Y-%m-%d %H:%M:%S')"
   ]
  },
  {
   "cell_type": "code",
   "execution_count": null,
   "metadata": {},
   "outputs": [],
   "source": [
    "SeventyFiveMinsAgo=dt.datetime.now()-dt.timedelta(minutes=75)\n",
    "SeventyFiveMinsAgo.strftime('%Y-%m-%d %H:%M:%S')"
   ]
  },
  {
   "cell_type": "code",
   "execution_count": null,
   "metadata": {},
   "outputs": [],
   "source": [
    "time='15:53:12 2019-04-15'\n",
    "dt.datetime.strptime(time,'%H:%M:%S %Y-%m-%d')"
   ]
  },
  {
   "cell_type": "code",
   "execution_count": null,
   "metadata": {},
   "outputs": [],
   "source": [
    "dt.datetime.strptime(time,'%H:%M:%S %Y-%m-%d').strftime('%Y-%m-%d %H:%M:%S')"
   ]
  },
  {
   "cell_type": "markdown",
   "metadata": {},
   "source": [
    "#### SQL Queries"
   ]
  },
  {
   "cell_type": "code",
   "execution_count": null,
   "metadata": {
    "collapsed": true
   },
   "outputs": [],
   "source": [
    "conn_info_vertica={\n",
    " 'host': 'tt-pvrt-lback01.trendyol.com',\n",
    " 'port': 5433,\n",
    " 'user': 'your.username',\n",
    " 'password': 'your.password',\n",
    " 'database': 'vdsm'\n",
    "}"
   ]
  },
  {
   "cell_type": "code",
   "execution_count": null,
   "metadata": {
    "collapsed": true
   },
   "outputs": [],
   "source": [
    "sqlserverhost = \"t-sqlrep.trendyol.com\"\n",
    "sqlserverport = 1433\n",
    "sqlserveruser = \"your.username\"\n",
    "sqlserverpwd = \"your.password\"\n",
    "sqlserverdb = \"trendyol\"\n",
    "sqlserverdriver = '/opt/microsoft/msodbcsql/lib64/libmsodbcsql-11.0.so.2270.0'\n",
    "sqlserverconn = \"DRIVER=\"+sqlserverdriver+\";SERVER=\"+sqlserverhost+\";DATABASE=\"+sqlserverdb+\";UID=\"+sqlserveruser+\";PWD=\"+sqlserverpwd"
   ]
  },
  {
   "cell_type": "code",
   "execution_count": null,
   "metadata": {
    "collapsed": true
   },
   "outputs": [],
   "source": [
    "verticaConnection = vertica_python.connect(**var.conn_info_vertica)\n",
    "verticaCursor = verticaConnection.cursor()"
   ]
  },
  {
   "cell_type": "code",
   "execution_count": null,
   "metadata": {
    "collapsed": true
   },
   "outputs": [],
   "source": [
    "MsConnection=pyodbc.connect(var.sqlserverconn)\n",
    "MsCursor=MsConnection.cursor()"
   ]
  },
  {
   "cell_type": "code",
   "execution_count": null,
   "metadata": {
    "collapsed": true
   },
   "outputs": [],
   "source": [
    "desiredDate=(dt.datetime.now()-dt.timedelta(days=1,hours=5,minutes=15)).strftime('%Y-%m-%d %H:%M:%S')"
   ]
  },
  {
   "cell_type": "code",
   "execution_count": null,
   "metadata": {},
   "outputs": [],
   "source": [
    "desiredDate"
   ]
  },
  {
   "cell_type": "code",
   "execution_count": null,
   "metadata": {
    "collapsed": true
   },
   "outputs": [],
   "source": [
    "query1='''select * \n",
    "from clickstream.ordersummary \n",
    "where ts>'{}' limit 200 '''.format(desiredDate)"
   ]
  },
  {
   "cell_type": "code",
   "execution_count": null,
   "metadata": {},
   "outputs": [],
   "source": [
    "print(query1)"
   ]
  },
  {
   "cell_type": "code",
   "execution_count": null,
   "metadata": {
    "collapsed": true
   },
   "outputs": [],
   "source": [
    "VerticaData=pd.read_sql(query1,verticaConnection)"
   ]
  },
  {
   "cell_type": "code",
   "execution_count": null,
   "metadata": {
    "scrolled": true
   },
   "outputs": [],
   "source": [
    "VerticaData.head()"
   ]
  },
  {
   "cell_type": "code",
   "execution_count": null,
   "metadata": {
    "collapsed": true
   },
   "outputs": [],
   "source": [
    "query2='''select * from trendyol.dbo.ac_Orders where OrderDate>'{0}' {1} '''.format(desiredDate,)"
   ]
  },
  {
   "cell_type": "code",
   "execution_count": null,
   "metadata": {},
   "outputs": [],
   "source": [
    "query2"
   ]
  },
  {
   "cell_type": "code",
   "execution_count": null,
   "metadata": {},
   "outputs": [],
   "source": [
    "MsData=pd.read_sql(query2,MsConnection)"
   ]
  },
  {
   "cell_type": "code",
   "execution_count": null,
   "metadata": {},
   "outputs": [],
   "source": [
    "MsData.head()"
   ]
  },
  {
   "cell_type": "code",
   "execution_count": null,
   "metadata": {},
   "outputs": [],
   "source": [
    "MsData[['OrderId']].head()"
   ]
  },
  {
   "cell_type": "code",
   "execution_count": null,
   "metadata": {
    "scrolled": true
   },
   "outputs": [],
   "source": [
    "MsData[['OrderId','OrderNumber']].head(20)"
   ]
  },
  {
   "cell_type": "code",
   "execution_count": null,
   "metadata": {
    "scrolled": true
   },
   "outputs": [],
   "source": [
    "MsData[(MsData['IsShipmentCreated']==True)&(MsData['BillToFirstName']=='Elif')]"
   ]
  },
  {
   "cell_type": "code",
   "execution_count": null,
   "metadata": {},
   "outputs": [],
   "source": [
    "query3='''\n",
    "create table ml.PythonCrashCourse as\n",
    "select channel,count(channel) \n",
    "from clickstream.sessionstarted \n",
    "where ts>getdate()-1\n",
    "group by channel\n",
    "'''\n",
    "verticaCursor.execute(query3)"
   ]
  },
  {
   "cell_type": "code",
   "execution_count": null,
   "metadata": {},
   "outputs": [],
   "source": [
    "verticaCursor.execute('select * from ml.PythonCrashCourse').fetchall()"
   ]
  },
  {
   "cell_type": "code",
   "execution_count": null,
   "metadata": {},
   "outputs": [],
   "source": [
    "verticaCursor.execute('drop table if exists ml.PythonCrashCourse')"
   ]
  },
  {
   "cell_type": "code",
   "execution_count": 160,
   "metadata": {},
   "outputs": [],
   "source": [
    "import sys\n",
    "sys.path.append('/DS')\n",
    "import GlobalVariablesDS as var"
   ]
  },
  {
   "cell_type": "markdown",
   "metadata": {},
   "source": [
    "####  Break out of loop"
   ]
  },
  {
   "cell_type": "code",
   "execution_count": 158,
   "metadata": {},
   "outputs": [
    {
     "name": "stdout",
     "output_type": "stream",
     "text": [
      "0\n",
      "1\n",
      "2\n",
      "3\n",
      "4\n",
      "5\n",
      "6\n"
     ]
    }
   ],
   "source": [
    "for i in range(10):\n",
    "    print(i)\n",
    "    if i>5:\n",
    "        break"
   ]
  },
  {
   "cell_type": "code",
   "execution_count": 161,
   "metadata": {},
   "outputs": [
    {
     "name": "stdout",
     "output_type": "stream",
     "text": [
      "0\n",
      "1\n",
      "2\n",
      "3\n",
      "4\n",
      "5\n"
     ]
    }
   ],
   "source": [
    "i = 0\n",
    "while True:\n",
    "    print(i)\n",
    "    i+=1\n",
    "    if i>5:\n",
    "        break"
   ]
  },
  {
   "cell_type": "code",
   "execution_count": 188,
   "metadata": {},
   "outputs": [
    {
     "name": "stdout",
     "output_type": "stream",
     "text": [
      "5\n",
      "6\n",
      "7\n",
      "8\n",
      "9\n"
     ]
    }
   ],
   "source": [
    "for i in range(10):\n",
    "    if i < 5:\n",
    "        continue\n",
    "    else:\n",
    "        print(i)"
   ]
  },
  {
   "cell_type": "markdown",
   "metadata": {},
   "source": [
    "#### Try - Except - Finally - Else"
   ]
  },
  {
   "cell_type": "code",
   "execution_count": 162,
   "metadata": {},
   "outputs": [
    {
     "name": "stdout",
     "output_type": "stream",
     "text": [
      "I cant do it becasue name 'verticaCursor' is not defined\n",
      "I'm executed no matter what\n"
     ]
    }
   ],
   "source": [
    "try:\n",
    "    verticaCursor.execute('select * from ml.PythonCrashCourse').fetchall()\n",
    "except Exception as e:\n",
    "    print('I cant do it becasue',e)\n",
    "else:\n",
    "    print('I did it!')\n",
    "finally:\n",
    "    print(\"I'm executed no matter what\")"
   ]
  },
  {
   "cell_type": "code",
   "execution_count": null,
   "metadata": {
    "collapsed": true
   },
   "outputs": [],
   "source": [
    "get_ipython().system('jupyter nbconvert --to script \"Python Crash Course.ipynb\"')"
   ]
  }
 ],
 "metadata": {
  "kernelspec": {
   "display_name": "Python 3",
   "language": "python",
   "name": "python3"
  },
  "language_info": {
   "codemirror_mode": {
    "name": "ipython",
    "version": 3
   },
   "file_extension": ".py",
   "mimetype": "text/x-python",
   "name": "python",
   "nbconvert_exporter": "python",
   "pygments_lexer": "ipython3",
   "version": "3.7.4"
  }
 },
 "nbformat": 4,
 "nbformat_minor": 2
}
